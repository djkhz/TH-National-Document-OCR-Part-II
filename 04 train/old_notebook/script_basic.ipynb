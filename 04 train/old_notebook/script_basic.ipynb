{
  "nbformat": 4,
  "nbformat_minor": 0,
  "metadata": {
    "colab": {
      "name": "script",
      "provenance": []
    },
    "kernelspec": {
      "name": "python3",
      "display_name": "Python 3"
    },
    "language_info": {
      "name": "python"
    },
    "accelerator": "GPU"
  },
  "cells": [
    {
      "cell_type": "code",
      "metadata": {
        "id": "CyD18ccL6OT-"
      },
      "source": [
        "!sudo apt-get install tesseract-ocr"
      ],
      "execution_count": null,
      "outputs": []
    },
    {
      "cell_type": "code",
      "metadata": {
        "id": "adnV3ZlyxZ4v"
      },
      "source": [
        "! git clone https://github.com/copninich/TH-National-Document-OCR-Part-II.git"
      ],
      "execution_count": null,
      "outputs": []
    },
    {
      "cell_type": "code",
      "metadata": {
        "id": "RlnCZFsHxrGc"
      },
      "source": [
        "%cd TH-National-Document-OCR-Part-II/05 train"
      ],
      "execution_count": null,
      "outputs": []
    },
    {
      "cell_type": "code",
      "metadata": {
        "id": "-Yg4VVHmyJDI"
      },
      "source": [
        "! git clone -b 4.1 https://github.com/tesseract-ocr/tesseract.git"
      ],
      "execution_count": null,
      "outputs": []
    },
    {
      "cell_type": "code",
      "metadata": {
        "id": "u2z-ZdAK2TWF"
      },
      "source": [
        "%cd TH-National-Document-OCR-Part-II/05 train/tesseract/tessdata"
      ],
      "execution_count": null,
      "outputs": []
    },
    {
      "cell_type": "code",
      "metadata": {
        "id": "pm4XQoRm2X4I"
      },
      "source": [
        "!wget https://github.com/tesseract-ocr/tessdata_best/blob/master/eng.traineddata\n",
        "!wget https://github.com/tesseract-ocr/tessdata_best/blob/master/tha.traineddata"
      ],
      "execution_count": null,
      "outputs": []
    },
    {
      "cell_type": "code",
      "metadata": {
        "id": "OLqPbpuH2fHN"
      },
      "source": [
        "%cd TH-National-Document-OCR-Part-II/05 train"
      ],
      "execution_count": null,
      "outputs": []
    },
    {
      "cell_type": "code",
      "metadata": {
        "id": "UkNFowG82wPM"
      },
      "source": [
        "!git clone https://github.com/tesseract-ocr/langdata_lstm.git"
      ],
      "execution_count": null,
      "outputs": []
    },
    {
      "cell_type": "code",
      "metadata": {
        "id": "YoJM09LU23LA"
      },
      "source": [
        "!cp tha.training_text langdata_lstm/tha/"
      ],
      "execution_count": null,
      "outputs": []
    },
    {
      "cell_type": "code",
      "metadata": {
        "id": "dL6LI6BA3iQF"
      },
      "source": [
        "%cd TH-National-Document-OCR-Part-II/05 train"
      ],
      "execution_count": null,
      "outputs": []
    },
    {
      "cell_type": "code",
      "metadata": {
        "id": "9wmHqm2o3j2H"
      },
      "source": [
        "!sh generate_train_ds.sh"
      ],
      "execution_count": null,
      "outputs": []
    }
  ]
}